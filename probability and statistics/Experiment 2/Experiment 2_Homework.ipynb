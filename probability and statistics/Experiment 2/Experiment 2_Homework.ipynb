{
 "cells": [
  {
   "cell_type": "markdown",
   "id": "8e8912fc",
   "metadata": {
    "nbgrader": {
     "grade": false,
     "locked": false,
     "solution": false
    }
   },
   "source": [
    "<font size=\"4\" style=\"color:red;\"> **IMPORTANT: ** When submitting this homework notebook, please modify only the cells that start with:</font>\n",
    "\n",
    "```python\n",
    "# modify this cell\n",
    "```"
   ]
  },
  {
   "cell_type": "markdown",
   "id": "ab81cc65",
   "metadata": {},
   "source": [
    "# 1. Die Rolls"
   ]
  },
  {
   "cell_type": "markdown",
   "id": "e65c31ff",
   "metadata": {},
   "source": [
    "Dice throws are another easy experiment to conduct. But first let us look at how we can reproduce the sampled data. To do this we can set the `seed` value of the random number generator to a chosen value."
   ]
  },
  {
   "cell_type": "code",
   "execution_count": 3,
   "id": "91937466",
   "metadata": {},
   "outputs": [
    {
     "name": "stdout",
     "output_type": "stream",
     "text": [
      "2\n"
     ]
    }
   ],
   "source": [
    "import matplotlib.pyplot as plt\n",
    "import numpy as np\n",
    "import ipywidgets as widgets\n",
    "np.random.seed(666)\n",
    "print(np.random.randint(9))"
   ]
  },
  {
   "cell_type": "markdown",
   "id": "e955fb2e",
   "metadata": {},
   "source": [
    "If we run the experiment again, we might get a different set of numbers."
   ]
  },
  {
   "cell_type": "code",
   "execution_count": 4,
   "id": "7fb0bdcd",
   "metadata": {
    "scrolled": true
   },
   "outputs": [
    {
     "name": "stdout",
     "output_type": "stream",
     "text": [
      "6\n"
     ]
    }
   ],
   "source": [
    "print(np.random.randint(9))"
   ]
  },
  {
   "cell_type": "code",
   "execution_count": 5,
   "id": "4795f60a",
   "metadata": {
    "scrolled": true
   },
   "outputs": [
    {
     "name": "stdout",
     "output_type": "stream",
     "text": [
      "2\n",
      "6\n"
     ]
    }
   ],
   "source": [
    "np.random.seed(666)\n",
    "print(np.random.randint(9))\n",
    "print(np.random.randint(9))"
   ]
  },
  {
   "cell_type": "markdown",
   "id": "5cf49786",
   "metadata": {},
   "source": [
    "## Exercise\n",
    "Now consider a fair die. Each face has probability $\\frac16$. We simulate $n$ die rolls and plot the empirical probability of each face, alongside the theoretical probability. "
   ]
  },
  {
   "cell_type": "code",
   "execution_count": null,
   "id": "f8d4fc6e",
   "metadata": {},
   "outputs": [],
   "source": [
    "# modify this cell\n",
    "\n",
    "# This is a decorator that creates the slider\n",
    "@widgets.interact(n=(10,1000),continuos_update=False)\n",
    "def probability_plot(n):\n",
    "    \"\"\" \n",
    "        input: n (generate n random die rolls)\n",
    "        output: Count (counting the occurance of each event )\n",
    "    \"\"\"\n",
    "    #\n",
    "    # YOUR CODE HERE\n",
    "    #\n",
    "\n",
    "    # plot the empirical values\n",
    "    for i in range(6):\n",
    "        Prob = Count[i,1:]/np.arange(1,n+1)\n",
    "        plt.plot(np.arange(1, n + 1), Prob, linewidth=2.0, label='Face '+str(i+1))\n",
    "    \n",
    "    plt.plot(range(0, n), [1 / 6] * n, 'k', linewidth=3.0, label='Theoretical probability')\n",
    "    plt.title(\"Empirical and theoretical probabilities of the 6 faces\")\n",
    "    plt.xlabel('Number of Iterations')\n",
    "    plt.ylabel('Probability')\n",
    "    plt.xlim([1, n])\n",
    "    plt.ylim([0, 1])\n",
    "    plt.legend()\n",
    "    plt.show()"
   ]
  },
  {
   "cell_type": "markdown",
   "id": "67243d93",
   "metadata": {},
   "source": [
    "Next consider the event $E=\\{2,4,6\\}$ that the outcome is even. Clearly $P(E)=\\frac36=\\frac{1}{2}=0.5$.\n",
    "\n",
    "The next cell simulates $n$ die rolls and plots the theoretical and empirical probabilities of $E$."
   ]
  },
  {
   "cell_type": "code",
   "execution_count": null,
   "id": "a911fc23",
   "metadata": {
    "scrolled": true
   },
   "outputs": [],
   "source": [
    "# modify this cell\n",
    "\n",
    "# This is a decorator that creates the slider\n",
    "@widgets.interact(n=(10,10000),continuous_update=False)\n",
    "def probability_plot_B(n):\n",
    "    \"\"\" \n",
    "        input: n (generate n random die rolls)\n",
    "        output: Prob_E (calculating the probability of even throw's)\n",
    "        hint: counting the events of even numbers\n",
    "    \"\"\"\n",
    "    #\n",
    "    # YOUR CODE HERE\n",
    "    #\n",
    "\n",
    "    # plot\n",
    "    plt.plot(range(1,n+1),Prob_E, 'b', linewidth= 2,label='Empirical probability')    \n",
    "    plt.plot(range(1,n+1), [1 / 2] * n, 'k', linewidth= 2, label='Theoretical probability')\n",
    "    \n",
    "    plt.xlabel('Number of Iterations')\n",
    "    plt.ylabel('Probability')\n",
    "    plt.title(\"Odds of rolling an even number\")\n",
    "    plt.xlim([1, n])\n",
    "    plt.ylim([0, 1])\n",
    "    plt.legend()\n",
    "    plt.show()"
   ]
  },
  {
   "cell_type": "markdown",
   "id": "08fc2e07",
   "metadata": {},
   "source": [
    "# 2. Conditional Probability and Baye's Rule\n"
   ]
  },
  {
   "cell_type": "markdown",
   "id": "118e4879",
   "metadata": {},
   "source": [
    "## Exercise"
   ]
  },
  {
   "cell_type": "markdown",
   "id": "adfc5fbd",
   "metadata": {},
   "source": [
    "There are two urns $A$ and $B$. Urn $A$ contains $r_A$ red balls and $w_A$ white balls whereas urn $B$ contains $r_B$ red balls and $w_B$ white balls. One of the urns is picked at random and then one ball is picked at random from this urn. Write a function **conditional_probability** that calculates the conditional probability that the randomly chosen ball belonged to urn $A$ given that it is white. Assume that $\\frac{r_A}{w_A}\\neq\\frac{r_B}{w_B}$.\n",
    "\n",
    "<font  style=\"color:blue\"> **Code**</font>\n",
    "```python\n",
    "rA, wA, rB, wB = 1., 2., 2., 1.\n",
    "conditional__probability(rA, wA, rB, wB) \n",
    "```\n",
    "\n",
    "<font  style=\"color:magenta\"> **Output**</font>\n",
    "```\n",
    "0.6666666666666666\n",
    "```"
   ]
  },
  {
   "cell_type": "code",
   "execution_count": 1,
   "id": "8c31ad78",
   "metadata": {
    "scrolled": true
   },
   "outputs": [],
   "source": [
    "# modify this cell\n",
    "\n",
    "def conditional__probability(rA, wA, rB, wB):\n",
    "    # inputs: all of them are of type 'float'\n",
    "    # output: a variable of type 'float'\n",
    "    \n",
    "    #\n",
    "    # YOUR CODE HERE\n",
    "    #   \n"
   ]
  },
  {
   "cell_type": "code",
   "execution_count": 2,
   "id": "7823b3cc",
   "metadata": {
    "nbgrader": {
     "grade": true,
     "grade_id": "ex1",
     "locked": true,
     "points": "5",
     "solution": false
    }
   },
   "outputs": [],
   "source": [
    "assert( abs(conditional__probability(2., 4., 3., 3.) -0.5714285714285715) < 10**-5)  \n",
    "assert( abs(conditional__probability(1., 3., 5., 2.) -0.7241379310344829) < 10**-5) \n",
    "\n",
    "#\n",
    "# AUTOGRADER TEST - DO NOT REMOVE\n",
    "#\n"
   ]
  },
  {
   "cell_type": "markdown",
   "id": "7b6b860b",
   "metadata": {},
   "source": [
    "# 3. Conditional probability analysis for math scores\n"
   ]
  },
  {
   "cell_type": "markdown",
   "id": "d97afd64",
   "metadata": {},
   "source": [
    "Please try the same analysis for the students math scores following the same process conducted for Portuguese scores shown in Sec. 5 in \"Experiment 2_Lecture\" Notebook. **Insert new cells below to finish the process.**"
   ]
  },
  {
   "cell_type": "code",
   "execution_count": null,
   "id": "5b81a553",
   "metadata": {},
   "outputs": [],
   "source": [
    "# modify this cell\n",
    "\n",
    "data_math = pd.read_csv(\"student-mat.csv\")"
   ]
  }
 ],
 "metadata": {
  "kernelspec": {
   "display_name": "Python 3 (ipykernel)",
   "language": "python",
   "name": "python3"
  },
  "language_info": {
   "codemirror_mode": {
    "name": "ipython",
    "version": 3
   },
   "file_extension": ".py",
   "mimetype": "text/x-python",
   "name": "python",
   "nbconvert_exporter": "python",
   "pygments_lexer": "ipython3",
   "version": "3.7.0"
  }
 },
 "nbformat": 4,
 "nbformat_minor": 5
}
