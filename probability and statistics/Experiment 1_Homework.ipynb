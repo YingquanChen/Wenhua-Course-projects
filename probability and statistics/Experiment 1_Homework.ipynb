{
 "cells": [
  {
   "cell_type": "markdown",
   "id": "e25fec21",
   "metadata": {
    "nbgrader": {
     "grade": false,
     "locked": false,
     "solution": false
    }
   },
   "source": [
    "<font size=\"4\" style=\"color:red;\"> **IMPORTANT: ** Only modify cells which have the following comment</font>\n",
    "\n",
    "```python\n",
    "# modify this cell\n",
    "```\n",
    "\n",
    "<font style=\"color:red;\"> Do not add any new cells when submitting homework. For Docker users, to test out new code, use the coding **scratchpad** by clicking the triangular icon in the bottom right corner of the screen. (**hotkey:** control-B)  </font>\n",
    "\n"
   ]
  },
  {
   "cell_type": "markdown",
   "id": "65732f9a",
   "metadata": {
    "nbgrader": {
     "grade": false,
     "locked": false,
     "solution": false
    }
   },
   "source": [
    "# 1. Probability"
   ]
  },
  {
   "cell_type": "markdown",
   "id": "031b9614",
   "metadata": {
    "nbgrader": {
     "grade": false,
     "locked": false,
     "solution": false
    }
   },
   "source": [
    "In this excercise you will write code to estimate the probability that $n$ flips of a fair coin will result in number of `\"heads\"` between $k_1$ and $k_2$.\n",
    "\n",
    "You should write the body of two functions:\n",
    "1. <code><font color=\"blue\">seq_sum</font>(n)</code>: generates a random sequence of coin flips and counts the number of heads.\n",
    "2. <code><font color=\"blue\">estimate_prob</font>(n,k1,k2,m)</code>: Using calls to `seq_sum`, estimate the probability of the number of heads being between $k_1$ and $k_2$. \n"
   ]
  },
  {
   "cell_type": "markdown",
   "id": "ab6e22ab",
   "metadata": {
    "nbgrader": {
     "grade": false,
     "locked": false,
     "solution": false
    }
   },
   "source": [
    "### Notebook Setup:"
   ]
  },
  {
   "cell_type": "markdown",
   "id": "ad3f9ae7",
   "metadata": {
    "nbgrader": {
     "grade": false,
     "locked": false,
     "solution": false
    }
   },
   "source": [
    "The folowing magic command downloads many python packages like *numpy* and allows the notebooks to plot graphs with *matplotlib*. \n",
    "\n",
    "<font color=\"red\">**DO NOT**</font> import other packages. You already have all the packages you need.\n"
   ]
  },
  {
   "cell_type": "code",
   "execution_count": 1,
   "id": "cff481ac",
   "metadata": {},
   "outputs": [
    {
     "name": "stdout",
     "output_type": "stream",
     "text": [
      "%pylab is deprecated, use %matplotlib inline and import the required libraries.\n",
      "Populating the interactive namespace from numpy and matplotlib\n"
     ]
    }
   ],
   "source": [
    "%pylab inline\n",
    "import numpy as np"
   ]
  },
  {
   "cell_type": "markdown",
   "id": "7d84d4d5",
   "metadata": {},
   "source": [
    "Specifically, you can now use `np.random.rand(x)` which for some $x \\in N$ generates $x$ random numbers. You **will** use this command in your homework."
   ]
  },
  {
   "cell_type": "code",
   "execution_count": 2,
   "id": "49078af2",
   "metadata": {},
   "outputs": [
    {
     "data": {
      "text/plain": [
       "0.016665498902210474"
      ]
     },
     "execution_count": 2,
     "metadata": {},
     "output_type": "execute_result"
    }
   ],
   "source": [
    "np.random.rand()"
   ]
  },
  {
   "cell_type": "code",
   "execution_count": 3,
   "id": "3039ebc4",
   "metadata": {},
   "outputs": [
    {
     "data": {
      "text/plain": [
       "array([0.66036825, 0.45780998, 0.59752968, 0.99319421])"
      ]
     },
     "execution_count": 3,
     "metadata": {},
     "output_type": "execute_result"
    }
   ],
   "source": [
    "np.random.rand(4)"
   ]
  },
  {
   "cell_type": "markdown",
   "id": "27dcbf0c",
   "metadata": {},
   "source": [
    "##  1.1 Exercise 1:\n",
    "\n",
    "Write a function, <code><font color =\"blue\">seq_sum</font>(n)</code>, which generates $n$ random coin flips from a fair coin and then returns the number of heads. A fair coin is defined to be a coin where $P($heads$)=\\frac{1}{2}$ \n",
    "\n",
    "The output type should be a numpy integer, **hint:** use `np.random.rand()` \n",
    "\n",
    "<font  style=\"color:blue\"> * **Code:** *</font>\n",
    "```python\n",
    "x = seq_sum(100)\n",
    "print x\n",
    "print [seq_sum(2) for x in range(20)]\n",
    "```\n",
    "\n",
    "\n",
    "<font  style=\"color:magenta\"> * **Output:** *</font>\n",
    "```\n",
    "49\n",
    "[0, 1, 1, 1, 1, 2, 1, 2, 1, 1, 0, 0, 2, 1, 1, 1, 0, 0, 1, 1]\n",
    "```"
   ]
  },
  {
   "cell_type": "markdown",
   "id": "94081b3b",
   "metadata": {},
   "source": [
    "* Write your code for seq_sum in the cell below"
   ]
  },
  {
   "cell_type": "code",
   "execution_count": 4,
   "id": "c2f3b09f",
   "metadata": {},
   "outputs": [],
   "source": [
    "# modify this cell\n",
    "\n",
    "\n",
    "def seq_sum(n):\n",
    "    \"\"\" input: n, generate a sequence of n random coin flips\n",
    "        output: return the number of heads \n",
    "        Hint: For simplicity, use 1,0 to represent head,tails\n",
    "    \"\"\"\n",
    "    #\n",
    "    # YOUR CODE HERE\n",
    "    #\n",
    "    coin_list=np.random.rand(n)  #生成n个0-1之间的随机变量\n",
    "    head=sum(coin_list>0.5)      #统计大于0.5的个数，并把大于0.5的理解成硬币朝上，利用sum函数计算朝上的硬币个数\n",
    "    return head        "
   ]
  },
  {
   "cell_type": "markdown",
   "id": "a95bf7af",
   "metadata": {},
   "source": [
    "* if the following cell runs without error you receive some points."
   ]
  },
  {
   "cell_type": "code",
   "execution_count": 5,
   "id": "de2e24db",
   "metadata": {
    "nbgrader": {
     "grade": true,
     "grade_id": "ex1",
     "locked": true,
     "points": "5",
     "solution": false
    }
   },
   "outputs": [
    {
     "name": "stdout",
     "output_type": "stream",
     "text": [
      "50\n"
     ]
    }
   ],
   "source": [
    "# checking function \n",
    "\n",
    "x = seq_sum(100)\n",
    "print(x)\n",
    "assert np.unique([seq_sum(2) for x in  range(0,200)]).tolist() == [0, 1, 2]\n",
    "\n",
    "#\n",
    "# AUTOGRADER TEST - DO NOT REMOVE\n",
    "#\n"
   ]
  },
  {
   "cell_type": "markdown",
   "id": "173e7ede",
   "metadata": {},
   "source": [
    "## 1.2 Exercise 2:\n",
    "\n",
    "Write a function, <code><font color=\"blue\">estimate_prob</font>(n,k1,k2,m)</code>, that uses <code><font color=\"blue\">seq_sum</font>(n)</code> to estimate the following probability:\n",
    "\n",
    "$$ P(\\; k_1 <= \\text{number of heads in $n$ flips} < k_2 ) $$\n",
    "\n",
    "The function should estimate the probability by running $m$ different trials of <code><font color=\"blue\">seq_sum</font>(n)</code>, probably using a *`for`* loop.\n",
    "\n",
    "In order to receive full credit **estimate_prob** <font color=\"red\">MUST</font> call **seq_sum** (aka: seq_sum is located inside the **estimate_prob** function)\n",
    "\n",
    "<font  style=\"color:blue\"> * **Code:** *</font>\n",
    "```python\n",
    "x = estimate_prob(100,45,55,1000)\n",
    "print(x)\n",
    "print type(x)\n",
    "```\n",
    "\n",
    "<font  style=\"color:magenta\"> * **Output:** *</font>\n",
    "```\n",
    "0.686\n",
    "<type 'float'>\n",
    "```"
   ]
  },
  {
   "cell_type": "code",
   "execution_count": 6,
   "id": "8bd8d09e",
   "metadata": {},
   "outputs": [],
   "source": [
    "# Modify this cell\n",
    "\n",
    "def estimate_prob(n,k1,k2,m):\n",
    "    \"\"\"Estimate the probability that n flips of a fair coin result in k1 to k2 heads\n",
    "         n: the number of coin flips (length of the sequence)\n",
    "         k1,k2: the trial is successful if the number of heads is \n",
    "                between k1 and k2-1\n",
    "         m: the number of trials (number of sequences of length n)\n",
    "         \n",
    "         output: the estimated probability \n",
    "         \"\"\"\n",
    "    #\n",
    "    # YOUR CODE HERE\n",
    "    #\n",
    "    success=0         #对于成功落于K1-K2之间的次数进行统计，初始化为0\n",
    "    for i in range(m):  #进行m次实验\n",
    "      heads=seq_sum(n)  #调用前面写的seq_sum函数，生成n个硬币,并返回朝上的次数\n",
    "      if k1<=heads<=k2-1:  \n",
    "        success+=1   #如果朝上的硬币次数在k1和k2之间，则这次实验成功，成功次数+1\n",
    "    probability=success*1.0/m   #因为要求返回浮点数和计算成功率，则*1.0.\n",
    "    return probability\n"
   ]
  },
  {
   "cell_type": "code",
   "execution_count": 7,
   "id": "995ddb0d",
   "metadata": {},
   "outputs": [
    {
     "name": "stdout",
     "output_type": "stream",
     "text": [
      "0.644\n"
     ]
    }
   ],
   "source": [
    "# this is a small sanity check\n",
    "# the true check for this function is further down\n",
    "\n",
    "x = estimate_prob(100,45,55,1000)\n",
    "print(x)\n",
    "assert 'float' in str(type(x))"
   ]
  },
  {
   "cell_type": "code",
   "execution_count": 8,
   "id": "a3f90c20",
   "metadata": {},
   "outputs": [],
   "source": [
    "### Estimate vs. True Probability\n",
    "\n",
    "#We can now check how to see how close these estimates are to the true probabilities."
   ]
  },
  {
   "cell_type": "code",
   "execution_count": 9,
   "id": "852c1dc6",
   "metadata": {},
   "outputs": [],
   "source": [
    "### Helper Functions\n",
    "\n",
    "#These helper functions are used to calculate the actual probabilities. They are used to test your code.\n",
    "\n",
    "#It is not required that you understand how they work."
   ]
  },
  {
   "cell_type": "code",
   "execution_count": 10,
   "id": "e78a5def",
   "metadata": {
    "nbgrader": {
     "grade": false,
     "locked": true,
     "solution": false
    }
   },
   "outputs": [],
   "source": [
    "def calc_prob(n,k1,k2):\n",
    "    \"\"\"Calculate the probability using a normal approximation\"\"\"\n",
    "    n=float(n);k1=float(k1);k2=float(k2)\n",
    "    z1=(k1-0.5*n)/(sqrt(n)/2)\n",
    "    z2=(k2-0.5*n)/(sqrt(n)/2)\n",
    "    return (erf(z2/sqrt(2))-erf(z1/sqrt(2)))/2\n",
    "\n",
    "from math import erf,sqrt\n",
    "def evaluate(n,q1,q2,m,r=100):\n",
    "    \"\"\"Run calc_range many times and test whether the estimates are consistent with calc_prob\"\"\"\n",
    "    k1=int(q1*n)\n",
    "    k2=int(q2*n)\n",
    "    p=calc_prob(n,k1,k2)\n",
    "    std=sqrt(p*(1-p)/m)\n",
    "    print('computed prob=%5.3f, std=%5.3f'%(p,std))\n",
    "\n",
    "    L=[estimate_prob(n,k1,k2,m) for i in range(r)]\n",
    "    med=np.median(L)\n",
    "    print('ran estimator %d times, with parameters n=%d,k1=%d,k2=%d,m=%d'%(r,n,k1,k2,m))\n",
    "    print('median of estimates=%5.3f, error of median estimator=%5.3f, std= %f5.3'%(med,med-p,std))\n",
    "    return L,med,p,std,abs((med-p)/std)"
   ]
  },
  {
   "cell_type": "code",
   "execution_count": 11,
   "id": "fc64ef6c",
   "metadata": {
    "nbgrader": {
     "grade": false,
     "locked": true,
     "solution": false
    }
   },
   "outputs": [],
   "source": [
    "def test_report_assert(n,q1,q2,m,r=100):\n",
    "    k1=int(q1*n)\n",
    "    k2=int(q2*n)\n",
    "    L,med,p,std,norm_err=evaluate(n,q1,q2,m,r=100)\n",
    "    hist(L);\n",
    "    plot([p,p],plt.ylim(),'r',label='true prob')\n",
    "    plot([med,med],plt.ylim(),'k',label='median of %d estimates'%r)\n",
    "    mid_y=mean(plt.ylim())\n",
    "    plot([p-std,p+std],[mid_y,mid_y],'g',label='+-std')\n",
    "    legend();\n",
    "    print('normalized error of median=',norm_err,'should be <1.0')\n",
    "    title('r=%d,n=%d,k1=%d,k2=%d,m=%d,\\nnorm_err=%4.3f'%(r,n,k1,k2,m,norm_err))\n",
    "    assert norm_err<1.0"
   ]
  },
  {
   "cell_type": "markdown",
   "id": "d3936c8b",
   "metadata": {},
   "source": [
    "### Testing your Functions"
   ]
  },
  {
   "cell_type": "markdown",
   "id": "cb826830",
   "metadata": {},
   "source": [
    "* We now test your functions. The graphs below show how close your estimated probability is to the true probability for various values of $k_1$ and $k_2$. You can see that your answer is never exactly the correct probability. \n",
    "* For full credit, the code below must run without error."
   ]
  },
  {
   "cell_type": "code",
   "execution_count": 12,
   "id": "a880dcc8",
   "metadata": {
    "nbgrader": {
     "grade": true,
     "grade_id": "ex2",
     "locked": true,
     "points": "5",
     "solution": false
    }
   },
   "outputs": [
    {
     "name": "stdout",
     "output_type": "stream",
     "text": [
      "#### test no. 1\n",
      "computed prob=0.954, std=0.021\n",
      "ran estimator 100 times, with parameters n=100,k1=40,k2=60,m=100\n",
      "median of estimates=0.950, error of median estimator=-0.004, std= 0.0208405.3\n",
      "normalized error of median= 0.21591965634481614 should be <1.0\n",
      "#### test no. 2\n",
      "computed prob=0.159, std=0.037\n",
      "ran estimator 100 times, with parameters n=100,k1=55,k2=100,m=100\n",
      "median of estimates=0.180, error of median estimator=0.021, std= 0.0365355.3\n",
      "normalized error of median= 0.584220469946585 should be <1.0\n",
      "#### test no. 3\n",
      "computed prob=0.146, std=0.035\n",
      "ran estimator 100 times, with parameters n=100,k1=47,k2=49,m=100\n",
      "median of estimates=0.140, error of median estimator=-0.006, std= 0.0353595.3\n",
      "normalized error of median= 0.1834639088948734 should be <1.0\n",
      "#### test no. 4\n",
      "computed prob=1.000, std=0.000\n",
      "ran estimator 100 times, with parameters n=1000,k1=400,k2=600,m=100\n",
      "median of estimates=1.000, error of median estimator=0.000, std= 0.0000025.3\n",
      "normalized error of median= 0.0001593621193426113 should be <1.0\n",
      "#### test no. 5\n",
      "computed prob=0.001, std=0.003\n",
      "ran estimator 100 times, with parameters n=1000,k1=550,k2=1000,m=100\n",
      "median of estimates=0.000, error of median estimator=-0.001, std= 0.0027975.3\n",
      "normalized error of median= 0.27987751426889984 should be <1.0\n",
      "#### test no. 6\n",
      "computed prob=0.446, std=0.050\n",
      "ran estimator 100 times, with parameters n=1000,k1=470,k2=499,m=100\n",
      "median of estimates=0.440, error of median estimator=-0.006, std= 0.0497065.3\n",
      "normalized error of median= 0.11861045590584546 should be <1.0\n"
     ]
    },
    {
     "data": {
      "image/png": "[encoded data removed]",
      "text/plain": [
       "<Figure size 1000x1200 with 6 Axes>"
      ]
     },
     "metadata": {},
     "output_type": "display_data"
    }
   ],
   "source": [
    "# checking functions\n",
    "\n",
    "m=100\n",
    "i=1\n",
    "figure(figsize=[10,12])\n",
    "for n in [100,1000]:\n",
    "    for q1,q2 in [(0.4,0.6),(0.55,1.00),(0.47,0.499)]:\n",
    "        fig=subplot(3,2,i)\n",
    "        print('#### test no.',i)\n",
    "        i+=1\n",
    "        test_report_assert(n,q1,q2,m,r=100)\n",
    "tight_layout()"
   ]
  },
  {
   "cell_type": "code",
   "execution_count": 13,
   "id": "dd334907",
   "metadata": {
    "nbgrader": {
     "grade": true,
     "grade_id": "ex3",
     "locked": true,
     "points": "5",
     "solution": false
    }
   },
   "outputs": [
    {
     "name": "stdout",
     "output_type": "stream",
     "text": [
      "all good!\n"
     ]
    },
    {
     "name": "stderr",
     "output_type": "stream",
     "text": [
      "C:\\Users\\陈应权\\AppData\\Local\\Temp\\ipykernel_20220\\1765003271.py:14: DeprecationWarning: Calling np.sum(generator) is deprecated, and in the future will give a different result. Use np.sum(np.fromiter(generator)) or the python sum builtin instead.\n",
      "  n_correct=sum(nn==100 for nn,s in Log)\n"
     ]
    }
   ],
   "source": [
    "# checking functions \n",
    "\n",
    "def seq_sum(n):\n",
    "    #Log.append(n)\n",
    "    s=sum(random.rand(n)>0.5)\n",
    "    Log.append((n,s))\n",
    "    return s\n",
    "\n",
    "n,k1,k2,m = 100,45,50,1000\n",
    "for r in range(10):\n",
    "    Log=[]\n",
    "    a=estimate_prob(n,k1,k2,m)\n",
    "    b=float(sum([(s>=k1 and s<k2) for n,s in Log]))/m\n",
    "    n_correct=sum(nn==100 for nn,s in Log)\n",
    "    assert a==b, \"estimate is incorrect. should be %4f, instead is %4f\"%(b,a)\n",
    "    assert m==len(Log), 'should call seq_sum %d times, called it %d times'%(m,len(Log))\n",
    "    assert m==n_correct, 'the parameter n should be %d but sometimes it was not.'%n\n",
    "    \n",
    "print(\"all good!\")"
   ]
  },
  {
   "cell_type": "markdown",
   "id": "d5215e90",
   "metadata": {
    "nbgrader": {
     "grade": false,
     "locked": true,
     "solution": false
    }
   },
   "source": [
    "# 2. Sets"
   ]
  },
  {
   "cell_type": "markdown",
   "id": "89ae3f9e",
   "metadata": {
    "nbgrader": {
     "grade": false,
     "locked": true,
     "solution": false
    }
   },
   "source": [
    "## 2.1 Import Stuff\n",
    "\n",
    "Notice that we do not import *numpy* or *scipy* neither of these packages are need for this homework. For our solutions, the only command we needed to import was `itertools.product()`"
   ]
  },
  {
   "cell_type": "code",
   "execution_count": 14,
   "id": "cd5c866c",
   "metadata": {
    "nbgrader": {
     "grade": false,
     "locked": true,
     "solution": false
    }
   },
   "outputs": [],
   "source": [
    "import itertools\n",
    "from itertools import product"
   ]
  },
  {
   "cell_type": "markdown",
   "id": "422b5be7-02a5-49d6-a049-457b2fa7eec2",
   "metadata": {
    "nbgrader": {
     "grade": false,
     "locked": true,
     "solution": false
    }
   },
   "source": [
    "Read the notebook on sets before attempting these exercises\n",
    "\n",
    "De Morgan's first law states the following for any two sets $A$ and $B$\n",
    "$$(A\\cup B)^c = A^c\\cap B^c$$\n",
    "\n",
    "In the following two exercises we calculate $(A\\cup B)^c$ in two different ways. Both functions must take $A$, $B$ and the universal set $U$ as their inputs."
   ]
  },
  {
   "cell_type": "markdown",
   "id": "b7b15e21",
   "metadata": {
    "nbgrader": {
     "grade": false,
     "locked": true,
     "solution": false
    }
   },
   "source": [
    "## 2.2 Exercise 1"
   ]
  },
  {
   "cell_type": "markdown",
   "id": "298858e8",
   "metadata": {
    "nbgrader": {
     "grade": false,
     "locked": true,
     "solution": false
    }
   },
   "source": [
    "\n",
    "Write the function **complement_of_union** that first determines $A\\cup B$ and then evaluates the complement of this set. Output the tuple: $\\begin{pmatrix}A\\cup B,\\, (A\\cup B)^c\\end{pmatrix}$.\n",
    "\n",
    "\n",
    "\n",
    "<font  style=\"color:blue\"> **Code**</font>\n",
    "```python\n",
    "A = {1, 2, 3}\n",
    "B = {3, -6, 2, 0}\n",
    "U = {-10, -9, -8, -7, -6, 0, 1, 2, 3, 4}\n",
    "complement_of_union(A, B, U)\n",
    "```\n",
    "\n",
    "<font  style=\"color:magenta\"> **Output**</font>\n",
    "```\n",
    "({-6, 0, 1, 2, 3}, {-10, -9, -8, -7, 4})\n",
    "```\n"
   ]
  },
  {
   "cell_type": "code",
   "execution_count": 15,
   "id": "5cd2e95d",
   "metadata": {
    "scrolled": true
   },
   "outputs": [],
   "source": [
    "# modify this cell\n",
    "\n",
    "def complement_of_union(A, B, U):\n",
    "    # inputs: A, B and U are of type 'set'\n",
    "    # output: a tuple of the type (set, set)\n",
    "    \n",
    "    #\n",
    "    # YOUR CODE HERE\n",
    "    #\n",
    "    A_and_B=A.union(B)  #利用union函数，生成A并B\n",
    "    U.difference_update(A_and_B)  #生成补集\n",
    "    tuple_result=(set(A_and_B),set(U))  #用元组方式输出集合\n",
    "    return tuple_result\n",
    "            \n"
   ]
  },
  {
   "cell_type": "code",
   "execution_count": 16,
   "id": "14b4dcee",
   "metadata": {
    "nbgrader": {
     "grade": true,
     "grade_id": "ex1",
     "locked": true,
     "points": "5",
     "solution": false
    }
   },
   "outputs": [],
   "source": [
    "# Check Function\n",
    "\n",
    "A = {1, 2, 3, 4, 5}\n",
    "B = {0, 2, -6, 5, 8, 9}\n",
    "U = A|B|{-3, 7, 10, -4}\n",
    "assert( complement_of_union(A, B, U) == ({-6, 0, 1, 2, 3, 4, 5, 8, 9}, {-4, -3, 7, 10})  )\n",
    "\n",
    "#\n",
    "# AUTOGRADER TEST - DO NOT REMOVE\n",
    "#\n"
   ]
  },
  {
   "cell_type": "markdown",
   "id": "68ace135-dd5c-4c0a-949e-889dce1c73fb",
   "metadata": {
    "nbgrader": {
     "grade": false,
     "locked": true,
     "solution": false
    }
   },
   "source": [
    "## 2.3 Exercsise 2\n",
    "\n",
    "Write the function **intersection_of_complements** that first determines $A^c$ and $B^c$ and then evaluates the intersection of their complements. Output the tuple: $\\begin{pmatrix}A^c, \\,  A^c\\cap B^c\\end{pmatrix}$\n",
    "\n",
    "<font  style=\"color:blue\"> **Code**</font>\n",
    "```python\n",
    "A = {1, 2, 3}\n",
    "B = {3, -6, 2, 0}\n",
    "U = {-10, -9, -8, -7, -6, 0, 1, 2, 3, 4}\n",
    "intersection_of_complements(A, B, U)\n",
    "```\n",
    "\n",
    "<font  style=\"color:magenta\"> **Output**</font>\n",
    "```\n",
    "({-10, -9, -8, -7, -6, 0, 4}, {-10, -9, -8, -7, 4})\n",
    "```\n"
   ]
  },
  {
   "cell_type": "code",
   "execution_count": 17,
   "id": "655332ef-6a96-4031-842b-f215a77c6a9c",
   "metadata": {},
   "outputs": [],
   "source": [
    "# modify this cell\n",
    "\n",
    "def intersection_of_complements(A, B, U):\n",
    "    # inputs: A, B and U are of type 'set'\n",
    "    # output: a tuple of the form (set, set)\n",
    "    \n",
    "    #\n",
    "    # YOUR CODE HERE\n",
    "    #\n",
    "    A_c=U.difference(A) #A_c,B_c分别表示A,B在U中的补集\n",
    "    B_c=U.difference(B) #可直接用difference函数解决\n",
    "    temp_set=B_c.copy()#创造一个B补的副本\n",
    "    B_c.difference_update(A_c) #求得B补-A补\n",
    "    temp_set.difference_update(B_c) #再用B补减去B特有的，就是两者交集\n",
    "    result_tuple=(set(A_c),set(temp_set))\n",
    "    return result_tuple"
   ]
  },
  {
   "cell_type": "code",
   "execution_count": 18,
   "id": "3e4b9d45",
   "metadata": {
    "nbgrader": {
     "grade": true,
     "grade_id": "ex2",
     "locked": true,
     "points": "5",
     "solution": false
    }
   },
   "outputs": [],
   "source": [
    "# Check Function\n",
    "\n",
    "A = {1, 2, 3, 4, 5}\n",
    "B = {0, 2, -6, 5, 8, 9}\n",
    "U = A|B|{-3, 7, 10, -4}\n",
    "assert(  intersection_of_complements(A, B, U) == ({-6, -4, -3, 0, 7, 8, 9, 10}, {-4, -3, 7, 10})  )\n",
    "\n",
    "#\n",
    "# AUTOGRADER TEST - DO NOT REMOVE\n",
    "#\n"
   ]
  },
  {
   "cell_type": "markdown",
   "id": "f7eeb4f8",
   "metadata": {},
   "source": [
    "## 2.4 Exercise 3"
   ]
  },
  {
   "cell_type": "markdown",
   "id": "b0cb005e",
   "metadata": {},
   "source": [
    "<img style=\"float: right;width:300px;height:200px\" src=\"figs/Venn2.jpg\">\n",
    "The inclusion-exclusion principle states that for two sets $A$ and $B$,\n",
    "\n",
    "$$|A\\cup B|=|A|+|B|-|A\\cap B|.$$\n",
    "\n",
    "Write the following functions to determine $|A\\cup B|$ in two different ways.\n",
    "\n",
    "A function **union** that determines first $A\\cup B$ and then evaluates the union's size.\n",
    "Output the ordered pair $(A\\cup B, |A\\cup B|)$.\n",
    "\n",
    "<font  style=\"color:blue\"> * **Sample run** *</font>\n",
    "```python\n",
    "A = {1, 2, 3}\n",
    "B = {3, -6, 2, 0}\n",
    "print union(A, B)\n",
    "```\n",
    "\n",
    "<font  style=\"color:magenta\"> * **Expected Output** *</font>\n",
    "```\n",
    "({-6, 0, 1, 2, 3}, 5)\n",
    "```"
   ]
  },
  {
   "cell_type": "code",
   "execution_count": 19,
   "id": "fc804cfb",
   "metadata": {
    "scrolled": true
   },
   "outputs": [],
   "source": [
    "# modify this cell\n",
    "\n",
    "def union(A, B):\n",
    "    # inputs: A and B are of type 'set'\n",
    "    # output: a tuple of the type (set, set_length)\n",
    "    \n",
    "    #\n",
    "    # YOUR CODE HERE\n",
    "    #\n",
    "    A_and_B=A.union(B)  #利用union函数生成A并B\n",
    "    set_length=len(A_and_B) #len函数算长度\n",
    "    return(set(A_and_B),set_length)\n",
    "                \n",
    "    \n"
   ]
  },
  {
   "cell_type": "code",
   "execution_count": 20,
   "id": "51bda88f",
   "metadata": {
    "nbgrader": {
     "grade": true,
     "grade_id": "ex1",
     "locked": true,
     "points": "5",
     "solution": false
    }
   },
   "outputs": [],
   "source": [
    "A = {1,4,-3, \"bob\"}\n",
    "B = {2,1,-3,\"jill\"}\n",
    "assert union(A,B) == ({-3, 1, 2, 4, 'bob', 'jill'}, 6)\n",
    "\n",
    "#\n",
    "# AUTOGRADER TEST - DO NOT REMOVE\n",
    "#\n"
   ]
  },
  {
   "cell_type": "markdown",
   "id": "4932743a",
   "metadata": {},
   "source": [
    "## 2.5 Exercise 4"
   ]
  },
  {
   "cell_type": "markdown",
   "id": "dfc8cb21",
   "metadata": {},
   "source": [
    "A function **inclusion_exclusion** that first deterimines $|A|$, $|B|$, $A\\cap B$, and $|A\\cap B|$, and then uses the inclusion-exclusion formula to determine $|A\\cup B|$. \n",
    "Output the tuple $(|A|, |B|, |A\\cap B|, |A\\cup B|)$.\n",
    "\n",
    "<img style=\"float: right;width:400px;height:266px\" src=\"figs/Venn3.jpg\">\n",
    "\n",
    "<font  style=\"color:blue\"> * **Sample run:** *</font>\n",
    "```python\n",
    "A = {1, 2, 3}\n",
    "B = {3, -6, 2, 0}\n",
    "print inclusion_exclusion(A, B)\n",
    "print \"notice: 3 + 4 - 2 == 5\"\n",
    "```\n",
    "\n",
    "<font  style=\"color:magenta\"> * **Expected Output:** *</font>\n",
    "```\n",
    "(3, 4, 2, 5)\n",
    "notice: 3 + 4 - 2 == 5\n",
    "```"
   ]
  },
  {
   "cell_type": "code",
   "execution_count": 21,
   "id": "39cc3341",
   "metadata": {},
   "outputs": [],
   "source": [
    "# modify this cell\n",
    "\n",
    "def inclusion_exclusion(A, B):\n",
    "    # inputs: A and B are of type 'set'\n",
    "    # output: a tuple of four integers\n",
    "    \n",
    "    #\n",
    "    # YOUR CODE HERE\n",
    "    #\n",
    "    A_length=len(A)\n",
    "    B_length=len(B)\n",
    "    B_A=B.difference(A)#求出B-A事件\n",
    "    AB=B.difference(B_A)#求出A∩B;事实上到后面可以用intersection函数之间求交集\n",
    "    AB_length=len(AB)\n",
    "    A_and_B=A_length + B_length - AB_length\n",
    "    tuple_result=(A_length,B_length,AB_length,A_and_B)\n",
    "    return tuple_result\n",
    "    \n",
    "\n"
   ]
  },
  {
   "cell_type": "code",
   "execution_count": 22,
   "id": "d02d6f65",
   "metadata": {
    "nbgrader": {
     "grade": true,
     "grade_id": "ex2",
     "locked": true,
     "points": "5",
     "solution": false
    }
   },
   "outputs": [],
   "source": [
    "# Check Function\n",
    "\n",
    "A = {1, 2, 3, 4, 5}\n",
    "B = {0, 2, -6, 5, 8, 9}\n",
    "assert inclusion_exclusion(A, B) == (5, 6, 2, 9)\n",
    "\n",
    "#\n",
    "# AUTOGRADER TEST - DO NOT REMOVE\n",
    "#\n"
   ]
  },
  {
   "cell_type": "markdown",
   "id": "30d71f0a",
   "metadata": {
    "collapsed": true,
    "jupyter": {
     "outputs_hidden": true
    }
   },
   "source": [
    "## 2.6 Exercise 5"
   ]
  },
  {
   "cell_type": "markdown",
   "id": "ad5f8e8f",
   "metadata": {},
   "source": [
    "The inclusion-exclusion principle says that for three sets $A$, $B$ and $C$, \n",
    "\n",
    "$$|A\\cup B\\cup C|=|A|+|B|+|C|-|A\\cap B|-|B\\cap C|-|C\\cap A|+|A\\cap B\\cap C|$$\n",
    "\n",
    "We will write the following functions to determine $|A\\cup B\\cup C|$ in two different ways."
   ]
  },
  {
   "cell_type": "markdown",
   "id": "51d70002",
   "metadata": {},
   "source": [
    "Write function **union3** that first determines $A\\cup B\\cup C$ and then evaluates the size of this union.\n",
    "Output the tuple $(A\\cup B\\cup C, |A\\cup B\\cup C|)$.\n",
    "\n",
    "<font  style=\"color:blue\"> * **Sample run:** *</font>\n",
    "```python\n",
    "A = {1, 2, 3, 4, 5}\n",
    "B = {0, 2, -6, 5, 8, 9}\n",
    "C = {2, 10}\n",
    "union3(A, B, C)\n",
    "```\n",
    "\n",
    "\n",
    "<font  style=\"color:magenta\"> * **Expected Output:** *</font>\n",
    "```\n",
    "({-6, 0, 1, 2, 3, 4, 5, 8, 9, 10}, 10)\n",
    "```"
   ]
  },
  {
   "cell_type": "code",
   "execution_count": 23,
   "id": "3456703a",
   "metadata": {
    "scrolled": true
   },
   "outputs": [],
   "source": [
    "# modify this cell\n",
    "\n",
    "def union3(A, B, C):\n",
    "    # inputs: A, B and C are of type 'set'\n",
    "    # output: a tuple of the type (set, set_length)\n",
    "    \n",
    "    #\n",
    "    # YOUR CODE HERE\n",
    "    #\n",
    "    union_set = A.union(B, C)\n",
    "    union_size = len(union_set)\n",
    "    return (union_set, union_size)\n"
   ]
  },
  {
   "cell_type": "code",
   "execution_count": 24,
   "id": "854d4871",
   "metadata": {
    "nbgrader": {
     "grade": true,
     "grade_id": "ex3",
     "locked": true,
     "points": "5",
     "solution": false
    }
   },
   "outputs": [],
   "source": [
    "# check Function\n",
    "A = {1, 2, 4, 5, 10}\n",
    "B = {5, 2, -6, 5, 8, 9}\n",
    "C = {2, 10, 13}\n",
    "assert union3(A,B,C) == ({-6, 1, 2, 4, 5, 8, 9, 10, 13}, 9)\n",
    "\n",
    "#\n",
    "# AUTOGRADER TEST - DO NOT REMOVE\n",
    "#\n"
   ]
  },
  {
   "cell_type": "markdown",
   "id": "78329c10",
   "metadata": {},
   "source": [
    "## 2.7 Exercise 6"
   ]
  },
  {
   "cell_type": "markdown",
   "id": "d6ba51de",
   "metadata": {},
   "source": [
    "A function **inclusion_exclusion3** that first deterimines the sizes of $A$, $B$, $C$ and their mutual intersections, and then uses the inclusion-exclusion principle to determine the size of the union. Output the tuple $(|A\\cap B\\cap C|, |A\\cup B\\cup C|)$. Note that for brevity we are asking you to output the intermediate answer just for $A\\cap B\\cap C$, but you need to calculate all. \n",
    "\n",
    "<font  style=\"color:blue\"> * **Sample run:** *</font>\n",
    "```python\n",
    "A = {1, 2, 3, 4, 5}\n",
    "B = {0, 2, -6, 5, 8, 9}\n",
    "C = {2, 10}\n",
    "print inclusion_exclusion3(A, B, C)\n",
    "```\n",
    "\n",
    "\n",
    "<font  style=\"color:magenta\"> * **Expected Output:** *</font>\n",
    "```\n",
    "(1, 10)\n",
    "```"
   ]
  },
  {
   "cell_type": "code",
   "execution_count": 25,
   "id": "59ebcc1a",
   "metadata": {},
   "outputs": [],
   "source": [
    "# modify this cell\n",
    "\n",
    "def inclusion_exclusion3(A, B, C):\n",
    "    # inputs: A, B and C are of type 'set'\n",
    "    # output: a tuple of two integers\n",
    "    \n",
    "    #\n",
    "    # YOUR CODE HERE\n",
    "    #\n",
    "    A_length=len(A) #len函数直接求长度\n",
    "    B_length=len(B)\n",
    "    C_length=len(C)\n",
    "    AB_intersection=A.intersection(B)  #求交集\n",
    "    AC_intersection=A.intersection(C) \n",
    "    BC_intersection=B.intersection(C)\n",
    "    intersection_set = A.intersection(B, C)\n",
    "    intersection_length=len(intersection_set)\n",
    "    AB_intersection_length=len(AB_intersection) #求长度\n",
    "    AC_intersection_length=len(AC_intersection)\n",
    "    BC_intersection_length=len(BC_intersection)\n",
    "    Union_ABC=A_length + B_length + C_length - AB_intersection_length - AC_intersection_length - BC_intersection_length + intersection_length\n",
    "    result_tuple=(intersection_length, Union_ABC)\n",
    "    return result_tuple\n"
   ]
  },
  {
   "cell_type": "code",
   "execution_count": 26,
   "id": "9ea37e59",
   "metadata": {
    "nbgrader": {
     "grade": true,
     "grade_id": "ex4",
     "locked": true,
     "points": "5",
     "solution": false
    }
   },
   "outputs": [],
   "source": [
    "# Check Function\n",
    "\n",
    "A = {1, 2, 4, 5, 10}\n",
    "B = {5, 2, -6, 5, 8, 9, 10}\n",
    "C = {2, 10, 13}\n",
    "assert inclusion_exclusion3(A,B,C) == (2, 9)\n",
    "\n",
    "#\n",
    "# AUTOGRADER TEST - DO NOT REMOVE\n",
    "#\n"
   ]
  },
  {
   "cell_type": "code",
   "execution_count": null,
   "id": "e2a47efe",
   "metadata": {},
   "outputs": [],
   "source": []
  },
  {
   "cell_type": "code",
   "execution_count": null,
   "id": "8bdd3a5a-befb-44f2-ba4d-b16b2dc36483",
   "metadata": {},
   "outputs": [],
   "source": []
  },
  {
   "cell_type": "code",
   "execution_count": null,
   "id": "6a6c6697-0096-4f97-bc05-0691995c0d36",
   "metadata": {},
   "outputs": [],
   "source": []
  },
  {
   "cell_type": "code",
   "execution_count": null,
   "id": "cab2547c-9be2-43bc-838e-99984b647166",
   "metadata": {},
   "outputs": [],
   "source": []
  },
  {
   "cell_type": "code",
   "execution_count": null,
   "id": "e5d00586-250d-43e6-9daa-44a5fc130020",
   "metadata": {},
   "outputs": [],
   "source": []
  },
  {
   "cell_type": "code",
   "execution_count": null,
   "id": "b09c86e8-a60c-4b8e-994c-ce879c321b54",
   "metadata": {},
   "outputs": [],
   "source": []
  }
 ],
 "metadata": {
  "kernelspec": {
   "display_name": "Python 3 (ipykernel)",
   "language": "python",
   "name": "python3"
  },
  "language_info": {
   "codemirror_mode": {
    "name": "ipython",
    "version": 3
   },
   "file_extension": ".py",
   "mimetype": "text/x-python",
   "name": "python",
   "nbconvert_exporter": "python",
   "pygments_lexer": "ipython3",
   "version": "3.8.2"
  }
 },
 "nbformat": 4,
 "nbformat_minor": 5
}
